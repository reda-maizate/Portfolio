{
 "cells": [
  {
   "cell_type": "markdown",
   "metadata": {},
   "source": [
    "# Predicting Heart Disease using Machine Learning\n",
    "\n",
    "In this project, we will work with the Heart disease data set available on Kaggle, indicating if they have heart disease or not.\n"
   ]
  },
  {
   "cell_type": "markdown",
   "metadata": {},
   "source": [
    "## 1. Problem definition\n",
    "\n",
    "In our case, the problem we will be exploring is binary classification (either 0 or 1).\n",
    "We're going to use a number of different features about a person to predict whether they have heart disease or not.\n",
    "\n",
    "In a statement, \n",
    "\n",
    "- Given clinical features about a patient, can we predict whether or not they have heart disease?"
   ]
  },
  {
   "cell_type": "markdown",
   "metadata": {},
   "source": [
    "## 2. Data\n",
    "\n",
    "The original data set came from the Cleveland database form UCI Machine Learning Repository.\n",
    "\n",
    "However, we've downloaded it in a formatted way from Kaggle.\n",
    "\n",
    "This data set contains 76 features, but we'll only use 14 of them."
   ]
  },
  {
   "cell_type": "markdown",
   "metadata": {},
   "source": [
    "## 3. Evaluation\n",
    "\n",
    "The evaluation metric is something we might define at the start of a project.\n",
    "\n",
    "Since machine learning is very experimental, we can say something like,\n",
    "\n",
    "- If we can reach 95% accuracy at predicting whether or not a patient has heart disease during the proof of concept, we'll pursure this project.\n",
    "\n",
    "It provides us a goal to achieve.\n",
    "\n",
    "However, due to the nature of experimentation, the evaluation metric may change over time."
   ]
  },
  {
   "cell_type": "markdown",
   "metadata": {},
   "source": [
    "## Features"
   ]
  }
 ],
 "metadata": {
  "kernelspec": {
   "display_name": "ai_env",
   "language": "python",
   "name": "ai_env"
  },
  "language_info": {
   "codemirror_mode": {
    "name": "ipython",
    "version": 3
   },
   "file_extension": ".py",
   "mimetype": "text/x-python",
   "name": "python",
   "nbconvert_exporter": "python",
   "pygments_lexer": "ipython3",
   "version": "3.6.9"
  }
 },
 "nbformat": 4,
 "nbformat_minor": 2
}
