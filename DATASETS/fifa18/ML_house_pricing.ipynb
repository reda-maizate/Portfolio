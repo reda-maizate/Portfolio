{
 "cells": [
  {
   "cell_type": "code",
   "execution_count": 15,
   "metadata": {
    "collapsed": true
   },
   "outputs": [
    {
     "name": "stdout",
     "output_type": "stream",
     "text": [
      "MAE: 1115.7467183128902\nMax leaf nodes: 5 \t\t Mean Absolute Error: 385696.54278937966\nMax leaf nodes: 50 \t\t Mean Absolute Error: 279794.61143891385\nMax leaf nodes: 500 \t\t Mean Absolute Error: 261718.1134423186\n"
     ]
    },
    {
     "name": "stdout",
     "output_type": "stream",
     "text": [
      "Max leaf nodes: 5000 \t\t Mean Absolute Error: 271996.1207230471\n"
     ]
    }
   ],
   "source": [
    "#       Melbourne Data\n",
    "\n",
    "import pandas as pd\n",
    "import numpy as np\n",
    "import matplotlib.pyplot as plt\n",
    "from sklearn.model_selection import train_test_split\n",
    "from sklearn.ensemble import RandomForestRegressor\n",
    "from sklearn.metrics import mean_absolute_error\n",
    "\n",
    "#   Read data\n",
    "\n",
    "melb_data = pd.read_csv(\"C:/Users/redad/Desktop/INFORMATIQUE/Python/ML/Datasets/melb_data.csv\")\n",
    "melb_data = melb_data.dropna(axis=0)\n",
    "\n",
    "y = melb_data.Price\n",
    "\n",
    "features = [\"Rooms\", \"Bathroom\", \"Landsize\", \"Lattitude\", \"Longtitude\"]\n",
    "\n",
    "X = melb_data[features]\n",
    "\n",
    "#   Decision Tree Regressor\n",
    "\n",
    "from sklearn.tree import DecisionTreeRegressor\n",
    "\n",
    "dtr_model = DecisionTreeRegressor(random_state=1)\n",
    "dtr_model.fit(X, y)\n",
    "\n",
    "# print(\"We'll make a predictions for this 5 houses:\")\n",
    "# print(X.head())\n",
    "# print(\"The predictions are:\")\n",
    "# print(dtr_model.predict(X.head()))\n",
    "\n",
    "predictions_values = dtr_model.predict(X)\n",
    "print(\"MAE:\", mean_absolute_error(y, predictions_values))\n",
    "\n",
    "train_X, test_X, train_Y, test_Y = train_test_split(X, y, random_state=0)\n",
    "dtr_train_model = DecisionTreeRegressor()\n",
    "dtr_train_model.fit(train_X, train_Y)\n",
    "\n",
    "predictions_values_of_train = dtr_train_model.predict(test_X)\n",
    "\n",
    "def get_mae(max_leaf_nodes, train_X, test_X, train_Y, test_Y):\n",
    "    model = DecisionTreeRegressor(max_leaf_nodes=max_leaf_nodes, random_state=0)\n",
    "    model.fit(train_X, train_Y)\n",
    "    predictions_values_for_mae = model.predict(test_X)\n",
    "    mae = mean_absolute_error(test_Y, predictions_values_for_mae)\n",
    "    return mae\n",
    "\n",
    "for max_leaf_nodes in [5, 50, 500, 5000]:\n",
    "    my_mae = get_mae(max_leaf_nodes, train_X, test_X, train_Y, test_Y)\n",
    "    print(\"Max leaf nodes:\", max_leaf_nodes, \"\\t\\t Mean Absolute Error:\", my_mae)\n"
   ]
  }
 ],
 "metadata": {
  "kernelspec": {
   "display_name": "Python 2",
   "language": "python",
   "name": "python2"
  },
  "language_info": {
   "codemirror_mode": {
    "name": "ipython",
    "version": 2
   },
   "file_extension": ".py",
   "mimetype": "text/x-python",
   "name": "python",
   "nbconvert_exporter": "python",
   "pygments_lexer": "ipython2",
   "version": "2.7.6"
  }
 },
 "nbformat": 4,
 "nbformat_minor": 0
}
